{
 "cells": [
  {
   "cell_type": "markdown",
   "metadata": {},
   "source": [
    "# This notebook plots the figure 2e and 2f for \"Closed-Loop Neuromodulation for Treatment Resistant Depression. (NMED-BC111983)\" paper. "
   ]
  },
  {
   "cell_type": "markdown",
   "metadata": {},
   "source": [
    "# fig 2e: Reproducibility of clinical effects\n",
    "# fig 2f:  Left: Effect of burst duration on clinical measures.\n",
    "# fig 2f: Right: Effect of increasing dose (1 to 2mA) and changing contacts (3+/4- to 2+/3-) on clinical measures"
   ]
  },
  {
   "cell_type": "code",
   "execution_count": 1,
   "metadata": {},
   "outputs": [],
   "source": [
    "import numpy as np\n",
    "import pandas as pd\n",
    "import scipy \n",
    "from scipy import stats\n",
    "import matplotlib\n",
    "import matplotlib.pyplot as plt\n",
    "from sklearn.linear_model import LinearRegression\n",
    "import seaborn as sns\n",
    "%matplotlib inline"
   ]
  },
  {
   "cell_type": "code",
   "execution_count": 2,
   "metadata": {},
   "outputs": [],
   "source": [
    "import matplotlib\n",
    "matplotlib.rcParams['pdf.fonttype'] = 42\n",
    "matplotlib.rcParams['ps.fonttype'] = 42\n"
   ]
  },
  {
   "cell_type": "code",
   "execution_count": 3,
   "metadata": {},
   "outputs": [
    {
     "data": {
      "text/html": [
       "<div>\n",
       "<style scoped>\n",
       "    .dataframe tbody tr th:only-of-type {\n",
       "        vertical-align: middle;\n",
       "    }\n",
       "\n",
       "    .dataframe tbody tr th {\n",
       "        vertical-align: top;\n",
       "    }\n",
       "\n",
       "    .dataframe thead th {\n",
       "        text-align: right;\n",
       "    }\n",
       "</style>\n",
       "<table border=\"1\" class=\"dataframe\">\n",
       "  <thead>\n",
       "    <tr style=\"text-align: right;\">\n",
       "      <th></th>\n",
       "      <th>Unnamed: 0</th>\n",
       "      <th>HAMD</th>\n",
       "      <th>VAS_D</th>\n",
       "    </tr>\n",
       "  </thead>\n",
       "  <tbody>\n",
       "    <tr>\n",
       "      <th>0</th>\n",
       "      <td>rvc3-4 (1mA,6*6sec)</td>\n",
       "      <td>-4</td>\n",
       "      <td>-9</td>\n",
       "    </tr>\n",
       "    <tr>\n",
       "      <th>1</th>\n",
       "      <td>rvc3-4 (1mA,3*12sec)</td>\n",
       "      <td>-2</td>\n",
       "      <td>0</td>\n",
       "    </tr>\n",
       "    <tr>\n",
       "      <th>2</th>\n",
       "      <td>rvc3-4 (1mA,2*18sec)</td>\n",
       "      <td>-1</td>\n",
       "      <td>-12</td>\n",
       "    </tr>\n",
       "    <tr>\n",
       "      <th>3</th>\n",
       "      <td>rvc3-4 (1mA, 1*36sec)</td>\n",
       "      <td>-1</td>\n",
       "      <td>-7</td>\n",
       "    </tr>\n",
       "    <tr>\n",
       "      <th>4</th>\n",
       "      <td>rvc3-4 (1mA, 1*54sec)</td>\n",
       "      <td>-2</td>\n",
       "      <td>-8</td>\n",
       "    </tr>\n",
       "    <tr>\n",
       "      <th>5</th>\n",
       "      <td>rvc3-4 (2mA,1*54sec)</td>\n",
       "      <td>4</td>\n",
       "      <td>12</td>\n",
       "    </tr>\n",
       "    <tr>\n",
       "      <th>6</th>\n",
       "      <td>rvc2-3 (1mA,6*6sec)</td>\n",
       "      <td>-2</td>\n",
       "      <td>-7</td>\n",
       "    </tr>\n",
       "  </tbody>\n",
       "</table>\n",
       "</div>"
      ],
      "text/plain": [
       "              Unnamed: 0  HAMD  VAS_D\n",
       "0    rvc3-4 (1mA,6*6sec)    -4     -9\n",
       "1   rvc3-4 (1mA,3*12sec)    -2      0\n",
       "2   rvc3-4 (1mA,2*18sec)    -1    -12\n",
       "3  rvc3-4 (1mA, 1*36sec)    -1     -7\n",
       "4  rvc3-4 (1mA, 1*54sec)    -2     -8\n",
       "5   rvc3-4 (2mA,1*54sec)     4     12\n",
       "6    rvc2-3 (1mA,6*6sec)    -2     -7"
      ]
     },
     "execution_count": 3,
     "metadata": {},
     "output_type": "execute_result"
    }
   ],
   "source": [
    "\n",
    "SRC_DATA_DIR = './source_data'\n",
    "Effect_of_burst_duration_on_clinical_measures = 'Effect_of_burst_duration_on_clinical_measures.csv'\n",
    "df  = pd.read_csv(os.path.join(SRC_DATA_DIR, Effect_of_burst_duration_on_clinical_measures))\n",
    "df"
   ]
  },
  {
   "cell_type": "code",
   "execution_count": 4,
   "metadata": {},
   "outputs": [],
   "source": [
    "hamd = df['HAMD']\n",
    "vas = df['VAS_D']"
   ]
  },
  {
   "cell_type": "code",
   "execution_count": 6,
   "metadata": {},
   "outputs": [
    {
     "data": {
      "text/plain": [
       "<Figure size 864x288 with 0 Axes>"
      ]
     },
     "metadata": {},
     "output_type": "display_data"
    },
    {
     "data": {
      "image/png": "[encoded data removed]",
      "text/plain": [
       "<Figure size 432x288 with 1 Axes>"
      ]
     },
     "metadata": {
      "needs_background": "light"
     },
     "output_type": "display_data"
    }
   ],
   "source": [
    "plt.figure(figsize=(12, 4))\n",
    "df.plot.bar()\n",
    "plt.xticks(rotation = 70, fontsize =8)  \n",
    "plt.ylabel('change in mood scores', fontsize =12)\n",
    "plt.xlabel('stim. site', fontsize =12)\n",
    "plt.grid()\n",
    "\n",
    "plt.scatter(5,13.3, color = 'black' ,marker= (5,1) ,s= 120)\n",
    "plt.scatter(6,-8, color = 'black' , marker= (5,1), s= 120)\n",
    "plt.scatter(1.1,0, color = 'black' , marker= (5,1), s= 100)\n",
    "plt.scatter(1.3,0, color = 'black' , marker= (5,1), s= 100)\n",
    "\n",
    "plt.show()\n"
   ]
  },
  {
   "cell_type": "code",
   "execution_count": 7,
   "metadata": {},
   "outputs": [],
   "source": [
    "\n",
    "Reproducibility_of_clinical_effects_amygala = 'Reproducibility_of_clinical_effects_amygala.csv'\n",
    "df2 = pd.read_csv(os.path.join(SRC_DATA_DIR, Reproducibility_of_clinical_effects_amygala))\n",
    "amyg_hamd = df2['amyg_hamd'] \n",
    "amyg_VAS_D = df2['amyg_VAS_D']\n"
   ]
  },
  {
   "cell_type": "code",
   "execution_count": 8,
   "metadata": {},
   "outputs": [],
   "source": [
    "\n",
    "rvc1_2_hamd = np.array([-1,1])\n",
    "rvc1_2_VAS_D = np.array([11,-13])\n",
    "\n"
   ]
  },
  {
   "cell_type": "code",
   "execution_count": 16,
   "metadata": {},
   "outputs": [],
   "source": [
    "Reproducibility_of_clinical_effects_rvc2_3 = 'Reproducibility_of_clinical_effects_rvc2_3.csv'\n",
    "df3 = pd.read_csv(os.path.join(SRC_DATA_DIR, Reproducibility_of_clinical_effects_rvc2_3))\n",
    "rvc2_3_hamd = df3['rvc2_3_hamd'].dropna() \n",
    "rvc2_3_VAS_D = df3['rvc2_3_VAS_D']  \n",
    "\n",
    "\n"
   ]
  },
  {
   "cell_type": "code",
   "execution_count": 29,
   "metadata": {},
   "outputs": [],
   "source": [
    "Reproducibility_of_clinical_effects_rvc3_4 = 'Reproducibility_of_clinical_effects_rvc3_4.csv'\n",
    "df4 = pd.read_csv(os.path.join(SRC_DATA_DIR, Reproducibility_of_clinical_effects_rvc3_4))\n",
    "rvc3_4_hamd = df4['rvc3_4_hamd'].dropna()\n",
    "rvc3_4_VAS_D = df4['rvc3_4_VAS_D'] \n",
    "\n"
   ]
  },
  {
   "cell_type": "code",
   "execution_count": 31,
   "metadata": {},
   "outputs": [],
   "source": [
    "amyg_hamd_avg = np.mean(amyg_hamd)\n",
    "amyg_VAS_D_avg = np.mean(amyg_VAS_D)\n",
    "\n",
    "\n",
    "\n",
    "rvc1_2_hamd_avg = np.mean(rvc1_2_hamd)\n",
    "rvc1_2_VAS_D_avg = np.mean(rvc1_2_VAS_D)\n",
    "\n",
    "\n",
    "rvc2_3_hamd_avg = np.mean(rvc2_3_hamd)\n",
    "rvc2_3_VAS_D_avg = np.mean(rvc2_3_VAS_D)\n",
    "\n",
    "\n",
    "rvc3_4_hamd_avg = np.mean(rvc3_4_hamd)\n",
    "rvc3_4_VAS_D_avg = np.mean(rvc3_4_VAS_D)\n",
    "\n"
   ]
  },
  {
   "cell_type": "code",
   "execution_count": 32,
   "metadata": {},
   "outputs": [
    {
     "data": {
      "text/plain": [
       "<Figure size 864x864 with 0 Axes>"
      ]
     },
     "metadata": {},
     "output_type": "display_data"
    },
    {
     "data": {
      "image/png": "[encoded data removed]",
      "text/plain": [
       "<Figure size 432x288 with 1 Axes>"
      ]
     },
     "metadata": {
      "needs_background": "light"
     },
     "output_type": "display_data"
    }
   ],
   "source": [
    "\n",
    "y1 = [amyg_hamd_avg, rvc1_2_hamd_avg,rvc2_3_hamd_avg,rvc3_4_hamd_avg]\n",
    "y2 = [amyg_VAS_D_avg,rvc1_2_VAS_D_avg, rvc2_3_VAS_D_avg, rvc3_4_VAS_D_avg]\n",
    "\n",
    "df = pd.DataFrame(y1, index =['amyg','rvc1-2','rvc2_3','rvc3_4'], columns = ['HAMD'])\n",
    "df['VAS_D'] = y2\n",
    "\n",
    "\n",
    "\n",
    "\n",
    "plt.figure(figsize=(12,12))\n",
    "df.plot.bar(alpha = 0.5)\n",
    "plt.xticks(rotation =60, fontsize =8)  \n",
    "plt.ylabel('change in mood scores', fontsize =16)\n",
    "plt.xlabel('stim. site', fontsize =16)\n",
    "plt.scatter([-.125,-.125,-.125,-.125,-.125,-.125],amyg_hamd, color = 'black')\n",
    "plt.scatter([0.12,0.12,0.12,0.12,0.12,0.12],amyg_VAS_D, color = 'black')\n",
    "plt.xticks(fontsize= 14)\n",
    "\n",
    "plt.scatter([0.8,0.8],rvc1_2_hamd, color = 'black')\n",
    "plt.scatter([1.1,1.1],rvc1_2_VAS_D, color = 'black')\n",
    "\n",
    "\n",
    "plt.scatter([1.9,1.9,1.9],rvc2_3_hamd, color = 'black')\n",
    "plt.scatter([2.1,2.1,2.1,2.1],rvc2_3_VAS_D, color = 'black')\n",
    "\n",
    "\n",
    "plt.scatter([2.85,2.85,2.85,2.85],rvc3_4_hamd, color = 'black')\n",
    "plt.scatter([3.12,3.12,3.12,3.12,3.12],rvc3_4_VAS_D, color = 'black')\n",
    "plt.grid()\n",
    "\n",
    "\n",
    "plt.annotate('n='+ str(len(amyg_hamd)), xy =(-.2, 20), xytext =(-.2, 20), fontsize =20, rotation= 45)\n",
    "\n",
    "\n",
    "\n",
    "\n",
    "\n",
    "\n",
    "plt.annotate('n='+ str(len(rvc1_2_hamd)), xy =(.75, 20), xytext =(.75, 20), fontsize =20, rotation= 45)\n",
    "\n",
    "\n",
    "\n",
    "\n",
    "plt.annotate('n='+ str(len(rvc2_3_hamd)), xy =(1.75, 20), xytext =(1.75, 20), fontsize =20, rotation= 45)\n",
    "\n",
    "\n",
    "\n",
    "\n",
    "plt.annotate('n='+ str(len(rvc3_4_hamd)), xy =(2.75, 10), xytext =(2.75, 10), fontsize =20, rotation= 45)\n",
    "\n",
    "\n",
    "\n",
    "plt.show()\n",
    "\n",
    "\n"
   ]
  },
  {
   "cell_type": "code",
   "execution_count": 33,
   "metadata": {},
   "outputs": [
    {
     "name": "stdout",
     "output_type": "stream",
     "text": [
      "0.43997866770095995 0.5317754713090624\n",
      "3.6320366132723123 0.09313342449609023\n",
      "4.4358369155859165 0.06447227384541428\n",
      "1.4520000000000002 0.27357328009706583\n",
      "15.903073286052015 0.005270757241601996\n",
      "7.511440050750687 0.025421683831169214\n"
     ]
    }
   ],
   "source": [
    "import scipy.stats as stats\n",
    "\n",
    "\n",
    "fvalue1, pvalue1 = stats.f_oneway(amyg_VAS_D, rvc1_2_VAS_D)\n",
    "print(fvalue1, pvalue1)\n",
    "\n",
    "\n",
    "fvalue2, pvalue2 = stats.f_oneway(amyg_VAS_D, rvc2_3_VAS_D)\n",
    "print(fvalue2, pvalue2)\n",
    "\n",
    "\n",
    "fvalue3, pvalue3 = stats.f_oneway(amyg_VAS_D, rvc3_4_VAS_D)\n",
    "print(fvalue3, pvalue3)\n",
    "\n",
    "\n",
    "\n",
    "\n",
    "fvalue4, pvalue4 = stats.f_oneway(amyg_hamd, rvc1_2_hamd)\n",
    "print(fvalue4, pvalue4)\n",
    "\n",
    "\n",
    "fvalue5, pvalue5 = stats.f_oneway(amyg_hamd, rvc2_3_hamd)\n",
    "print(fvalue5, pvalue5)\n",
    "\n",
    "\n",
    "fvalue6, pvalue6 = stats.f_oneway(amyg_hamd, rvc3_4_hamd)\n",
    "print(fvalue6, pvalue6)\n",
    "\n",
    "\n",
    "\n"
   ]
  },
  {
   "cell_type": "code",
   "execution_count": null,
   "metadata": {},
   "outputs": [],
   "source": []
  },
  {
   "cell_type": "code",
   "execution_count": null,
   "metadata": {},
   "outputs": [],
   "source": []
  }
 ],
 "metadata": {
  "kernelspec": {
   "display_name": "Python 3",
   "language": "python",
   "name": "python3"
  },
  "language_info": {
   "codemirror_mode": {
    "name": "ipython",
    "version": 3
   },
   "file_extension": ".py",
   "mimetype": "text/x-python",
   "name": "python",
   "nbconvert_exporter": "python",
   "pygments_lexer": "ipython3",
   "version": "3.7.6"
  }
 },
 "nbformat": 4,
 "nbformat_minor": 4
}
