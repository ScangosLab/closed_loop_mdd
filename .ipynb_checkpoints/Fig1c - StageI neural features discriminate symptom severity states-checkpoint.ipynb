{
 "cells": [
  {
   "cell_type": "code",
   "execution_count": null,
   "metadata": {
    "scrolled": true
   },
   "outputs": [],
   "source": [
    "%load_ext autoreload\n",
    "%autoreload 2\n",
    "\n",
    "import os\n",
    "import pandas as pd\n",
    "import numpy as np\n",
    "import matplotlib.pyplot as plt\n",
    "import seaborn as sns\n",
    "\n",
    "from scipy.stats import zscore\n",
    "\n",
    "import statsmodels.api as sm\n",
    "import statsmodels.formula.api as smf\n",
    "\n",
    "from sklearn.pipeline import Pipeline\n",
    "from sklearn.preprocessing import StandardScaler\n",
    "from sklearn.linear_model import LogisticRegression\n",
    "from sklearn.feature_selection import SelectKBest, f_classif, f_regression\n",
    "from sklearn.model_selection import StratifiedKFold\n",
    "from sklearn.metrics import roc_auc_score, roc_curve, accuracy_score\n",
    "\n",
    "SRC_DATA_DIR = './source_data'\n",
    "PR01_STAGEI_PABS_FEATS_FN = 'StageI-PR01_Absolute_Power_5min_windows.csv'\n",
    "PR01_STAGEI_SYMPTOM_STATES_FN = 'StageI-PR01_Biomarker_Selected_Symptom_States.csv'\n",
    "PR01_STAGEI_MODEL_PERF_FN = 'StageI-PR01_Biomarker_Model_Performance-Contacts_and_Band.txt'"
   ]
  },
  {
   "cell_type": "code",
   "execution_count": null,
   "metadata": {},
   "outputs": [],
   "source": [
    "def rkfold(X, y, n_feats=6, n_ite=200, n_splits=2):\n",
    "    kfold = StratifiedKFold(n_splits=n_splits, shuffle=True)\n",
    "    scores = list()\n",
    "    scores_shuffled = list()    \n",
    "    top_feats = list()\n",
    "    accuracy = list()\n",
    "    accuracy_shuffled = list()\n",
    "    df_roc = list()\n",
    "    df_roc_shuffled = list()\n",
    "    for iii in range(n_ite):\n",
    "        for train_idx, test_idx in kfold.split(X, y):\n",
    "            pipe = Pipeline([('norm', StandardScaler()),\n",
    "                             ('fselect', SelectKBest(f_classif, n_feats)), \n",
    "                             ('logit', LogisticRegression(class_weight='balanced', solver='lbfgs'))]) \n",
    "            pipe.fit(X.iloc[train_idx], y.iloc[train_idx])\n",
    "            probas = pipe.predict_proba(X.iloc[test_idx])\n",
    "            preds = pipe.predict(X.iloc[test_idx])\n",
    "            accuracy.append(accuracy_score(y.iloc[test_idx], preds))\n",
    "            accuracy_shuffled.append(accuracy_score(y.iloc[test_idx], np.random.permutation(preds)))\n",
    "            scores.append(roc_auc_score(y.iloc[test_idx], probas[:, 1]))\n",
    "            scores_shuffled.append(roc_auc_score(y.iloc[test_idx], np.random.permutation(probas[:, 1])))  \n",
    "            top_feats.extend(X.columns[pipe.named_steps['fselect'].get_support(indices=True)])\n",
    "            \n",
    "            tpr, fpr, _ = roc_curve(y.iloc[test_idx], probas[:, 1])\n",
    "            df_roc.append(pd.DataFrame({'tpr': tpr, 'fpr': fpr, 'iter': iii*np.ones(len(tpr))}))\n",
    "            \n",
    "            tpr, fpr, _ = roc_curve(y.iloc[test_idx], np.random.permutation(probas[:, 1]))\n",
    "            df_roc_shuffled.append(pd.DataFrame({'tpr': tpr, 'fpr': fpr, 'iter': iii*np.ones(len(tpr))}))\n",
    "            \n",
    "    df_roc = pd.concat(df_roc)\n",
    "    df_roc_shuffled = pd.concat(df_roc_shuffled)    \n",
    "    return scores, scores_shuffled, df_roc, df_roc_shuffled, accuracy, accuracy_shuffled, pd.value_counts(top_feats, normalize=False) / (n_ite * n_splits)\n",
    "\n",
    "def fit_and_summary(X, y, outfn, n_feats=6):\n",
    "    X = X.apply(zscore)\n",
    "     \n",
    "    F, p = f_regression(X, y)\n",
    "    feats = pd.Series(data=F, index=X.columns).sort_values(ascending=False)[:6].index   \n",
    "    \n",
    "    X2 = sm.add_constant(X[feats])\n",
    "    fit = sm.Logit(y, X2).fit(disp=0)\n",
    "\n",
    "    scores, scores_shuffled, curve, curve_shuffled, accuracy, accuracy_shuffled, top_feats = rkfold(X, y, n_feats)\n",
    "    \n",
    "    summary = fit.summary()\n",
    "    auc_stats = pd.Series(scores).describe()\n",
    "    auc_stats_shuffled = pd.Series(scores_shuffled).describe()    \n",
    "    accuracy = pd.Series(accuracy).describe()    \n",
    "    accuracy_shuffled = pd.Series(accuracy_shuffled).describe()        \n",
    "    \n",
    "    '''\n",
    "    with open(outfn, 'w') as f:\n",
    "        f.write('ROC AUC Stats from 1000 Randomly Sampled Models\\n')\n",
    "        f.write('----------------------------------------------\\n')\n",
    "        f.write(auc_stats.to_string() + '\\n')\n",
    "        f.write(summary.as_text())\n",
    "    '''\n",
    "\n",
    "    print('ROC AUC Stats from 1000 Randomly Sampled Models')\n",
    "    print('----------------------------------------------')\n",
    "    print(' ')\n",
    "    print(auc_stats)\n",
    "    \n",
    "    print('Accuracy Stats from 1000 Randomly Sampled Models')\n",
    "    print('----------------------------------------------')\n",
    "    print(' ')\n",
    "    print(accuracy)\n",
    "\n",
    "    print(' ')\n",
    "    print(summary)\n",
    "    \n",
    "    plt.figure()\n",
    "    ax = plt.subplot(111)\n",
    "    ax = sns.lineplot(x='tpr', y='fpr', data=curve, color='blue', linewidth=0.1, ax=ax);\n",
    "    ax = sns.lineplot(x='tpr', y='fpr', data=curve_shuffled, color='gray', linewidth=0.1, ax=ax);    \n",
    "    ax.plot([0, 1], [0, 1], color='black', linestyle='--')    \n",
    "    ax.set_xlim([0, 1]);\n",
    "    ax.set_ylim([0, 1]);\n",
    "    ax.set_xlabel('False Positive Rate')\n",
    "    ax.set_ylabel('True Positive Rate')\n",
    "    ax.set_title('Receiver operating characteristic')\n",
    "    ax.legend(['True: AUC={:0.2f}'.format(auc_stats['mean']),\n",
    "               'Shuffled: AUC={:0.2f}'.format(auc_stats_shuffled['mean'])])\n",
    "    sns.despine()\n",
    "    plt.savefig('{}.pdf'.format(outfn), transparent=True)    \n",
    "    plt.show()    \n",
    "    \n",
    "    return top_feats"
   ]
  },
  {
   "cell_type": "markdown",
   "metadata": {},
   "source": [
    "# Load Features and Scores"
   ]
  },
  {
   "cell_type": "code",
   "execution_count": null,
   "metadata": {},
   "outputs": [],
   "source": [
    "SYMPTOM_STATES = pd.Series.from_csv(os.path.join(SRC_DATA_DIR, PR01_STAGEI_SYMPTOM_STATES_FN), parse_dates=False)\n",
    "PABS_FEAT = pd.read_csv(os.path.join(SRC_DATA_DIR, PR01_STAGEI_PABS_FEATS_FN), index_col=0)\n",
    "PABS_FEAT.drop(['anx', 'nrg', 'dpr', 'ham'], axis=1, inplace=True)\n",
    "\n",
    "cdf = PABS_FEAT.loc[SYMPTOM_STATES.index]"
   ]
  },
  {
   "cell_type": "markdown",
   "metadata": {},
   "source": [
    "## Summarize performance across 1000 randomly sampled models"
   ]
  },
  {
   "cell_type": "code",
   "execution_count": null,
   "metadata": {},
   "outputs": [],
   "source": [
    "top_feats = fit_and_summary(cdf, SYMPTOM_STATES, os.path.join(SRC_DATA_DIR, PR01_STAGEI_MODEL_PERF_FN))"
   ]
  },
  {
   "cell_type": "markdown",
   "metadata": {},
   "source": [
    "## Frequency of feature selection across 1000 random models"
   ]
  },
  {
   "cell_type": "code",
   "execution_count": null,
   "metadata": {},
   "outputs": [],
   "source": [
    "fig, ax = plt.subplots(figsize=(10, 8))\n",
    "top_feats[:50].plot(kind='bar');\n",
    "ax.set_ylabel('Percentage of Models Features is Selected')\n",
    "ax.set_title('Top Features from Sampled Models')\n",
    "sns.despine();"
   ]
  }
 ],
 "metadata": {
  "kernelspec": {
   "display_name": "mind",
   "language": "python",
   "name": "mind"
  },
  "language_info": {
   "codemirror_mode": {
    "name": "ipython",
    "version": 3
   },
   "file_extension": ".py",
   "mimetype": "text/x-python",
   "name": "python",
   "nbconvert_exporter": "python",
   "pygments_lexer": "ipython3",
   "version": "3.5.2"
  }
 },
 "nbformat": 4,
 "nbformat_minor": 4
}
